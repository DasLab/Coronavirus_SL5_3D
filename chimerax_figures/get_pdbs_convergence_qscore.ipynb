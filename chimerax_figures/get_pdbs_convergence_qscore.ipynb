{
 "cells": [
  {
   "cell_type": "code",
   "execution_count": 1,
   "id": "6c1eb9f6-ce11-4b78-add7-7d2c502dfa73",
   "metadata": {},
   "outputs": [],
   "source": [
    "# get pdb for visualization of modeling results\n",
    "from glob import glob\n",
    "import pandas as pd\n",
    "from biopandas.pdb import PandasPdb"
   ]
  },
  {
   "cell_type": "code",
   "execution_count": 2,
   "id": "61b83cac-7b44-4623-994e-a82ecf109570",
   "metadata": {},
   "outputs": [],
   "source": [
    "# SARS-CoV-1\n",
    "data_file = '../analysis/convergence/SARS-CoV-1_SL5_per-residue-scores.csv'\n",
    "df = pd.read_csv(data_file,header=[0,1,2],index_col=0)\n",
    "\n",
    "# Get scores\n",
    "Qscore = pd.read_csv('../analysis/map_to_model/auto-drrafter_erraser_SARS-CoV-1_icSHAPE_per_residue.csv').groupby('per_residue_cc_residue').mean().q_per_residue.to_dict()\n",
    "convergence = df['icSHAPE']['auto-DRRAFTER and ERRASER'].convergence.to_dict()\n",
    "\n",
    "# create pdbs\n",
    "pdb_file = '../models/auto-drrafter_erraser/SARS-CoV-1/icSHAPE/SARS_CoV_1_Sun_icSHAPE_all_models_all_fits_FINAL_R3.out.1.pdbFINISHED_1.pdb'\n",
    "pdb_out = 'SARS-CoV-1_icSHAPE_'\n",
    "pdb = PandasPdb().read_pdb(pdb_file)\n",
    "pdb.df['ATOM']['b_factor'] = pdb.df['ATOM'].residue_number.map(Qscore)\n",
    "pdb.to_pdb(f'{pdb_out}Qscore.pdb')\n",
    "pdb = PandasPdb().read_pdb(pdb_file)\n",
    "pdb.df['ATOM']['b_factor'] = pdb.df['ATOM'].residue_number.map(convergence)\n",
    "pdb.to_pdb(f'{pdb_out}convergence.pdb')\n",
    "\n",
    "# Get scores\n",
    "Qscore = pd.read_csv('../analysis/map_to_model/auto-drrafter_erraser_SARS-CoV-1_eternafold_per_residue.csv').groupby('per_residue_cc_residue').mean().q_per_residue.to_dict()\n",
    "convergence = df['eternafold']['auto-DRRAFTER and ERRASER'].convergence.to_dict()\n",
    "\n",
    "# create pdbs\n",
    "pdb_file = '../models/auto-drrafter_erraser/SARS-CoV-1/eternafold/SARS_CoV_1_eternafold_all_models_all_fits_FINAL_R3.out.1.pdbFINISHED_1.pdb'\n",
    "pdb_out = 'SARS-CoV-1_eternafold_'\n",
    "pdb = PandasPdb().read_pdb(pdb_file)\n",
    "pdb.df['ATOM']['b_factor'] = pdb.df['ATOM'].residue_number.map(Qscore)\n",
    "pdb.to_pdb(f'{pdb_out}Qscore.pdb')\n",
    "pdb = PandasPdb().read_pdb(pdb_file)\n",
    "pdb.df['ATOM']['b_factor'] = pdb.df['ATOM'].residue_number.map(convergence)\n",
    "pdb.to_pdb(f'{pdb_out}convergence.pdb')"
   ]
  },
  {
   "cell_type": "code",
   "execution_count": 3,
   "id": "3e249001-6f7b-466e-a9a7-bbcbb2d12f19",
   "metadata": {},
   "outputs": [],
   "source": [
    "def get_pdbs_multiconf(data_file,q_file,pdb_file,pdb_out,sec_struct,conformation=None):\n",
    "\n",
    "    # Get scores\n",
    "    Qscore = pd.read_csv(q_file).groupby('per_residue_cc_residue').mean().q_per_residue.to_dict()\n",
    "    if conformation is None:\n",
    "        df = pd.read_csv(data_file,header=[0,1,2],index_col=0)\n",
    "        convergence = df[sec_struct]['auto-DRRAFTER and ERRASER'].convergence.to_dict()\n",
    "    else:\n",
    "        df = pd.read_csv(data_file,header=[0,1,2,3],index_col=0)\n",
    "        convergence = df[conformation][sec_struct]['auto-DRRAFTER and ERRASER'].convergence.to_dict()\n",
    "\n",
    "    # create pdbs\n",
    "    pdb = PandasPdb().read_pdb(pdb_file)\n",
    "    pdb.df['ATOM']['b_factor'] = pdb.df['ATOM'].residue_number.map(Qscore)\n",
    "    pdb.to_pdb(f'{pdb_out}Qscore.pdb')\n",
    "    pdb = PandasPdb().read_pdb(pdb_file)\n",
    "    pdb.df['ATOM']['b_factor'] = pdb.df['ATOM'].residue_number.map(convergence)\n",
    "    pdb.to_pdb(f'{pdb_out}convergence.pdb')\n",
    "    \n",
    "    print('close all')\n",
    "    print(f'open {pdb_out}Qscore.pdb')\n",
    "    print('color byattribute bfactor #1 palette red:white:blue range 0,0.34')\n",
    "    if 'MERS' in pdb_out:\n",
    "        print('view matrix camera -0.054773,0.041313,0.99764,376.22,0.99723,0.052569,0.052574,156.66,-0.050273,0.99776,-0.044078,127.49')\n",
    "    elif 'BtCoV' in pdb_out:\n",
    "        print('view matrix camera 0.16236,0.10822,0.98078,302.2,0.98606,0.018985,-0.16533,44.556,-0.036512,0.99395,-0.10363,53.749')\n",
    "    elif '229' in pdb_out:\n",
    "        print('view matrix camera -0.13878,-0.025873,-0.98999,-86.577,0.8019,-0.58953,-0.097008,128.36,-0.5811,-0.80734,0.10256,184.41')\n",
    "    elif '5cext' in pdb_out:\n",
    "        print('view matrix camera -0.25435,0.16105,-0.9536,-88.048,0.967,0.02781,-0.25324,169.55,-0.014263,-0.98656,-0.16281,214.95')\n",
    "    elif '5bext' in pdb_out:\n",
    "        print('view matrix camera 0.12234,-0.0011095,0.99248,550.13,0.9915,0.044647,-0.12217,135.96,-0.044175,0.999,0.0065658,182.79')\n",
    "    elif 'SL56' in pdb_out:\n",
    "        print('view matrix camera 0.17885,-0.048562,0.98267,494.66,-0.97322,0.13785,0.18394,260.67,-0.14439,-0.98926,-0.022611,213.41')\n",
    "    elif 'SARS-CoV-2' in pdb_out:\n",
    "        print('view matrix camera -0.054739,0.054873,0.99699,475.03,0.93475,-0.34824,0.070482,181.66,0.35106,0.9358,-0.032229,128.43')\n",
    "    print(f'save Qscore/{pdb_out}_Q.png transparentbackground true pixelSize 0.1')\n",
    "    print('close all')\n",
    "    print(f'open {pdb_out}convergence.pdb')\n",
    "    print('color byattribute bfactor #1 palette blue:white:red range 0,6')\n",
    "    if 'MERS' in pdb_out:\n",
    "        print('view matrix camera -0.054773,0.041313,0.99764,376.22,0.99723,0.052569,0.052574,156.66,-0.050273,0.99776,-0.044078,127.49')\n",
    "    elif 'BtCoV' in pdb_out:\n",
    "        print('view matrix camera 0.16236,0.10822,0.98078,302.2,0.98606,0.018985,-0.16533,44.556,-0.036512,0.99395,-0.10363,53.749')\n",
    "    elif '229' in pdb_out:\n",
    "        print('view matrix camera -0.13878,-0.025873,-0.98999,-86.577,0.8019,-0.58953,-0.097008,128.36,-0.5811,-0.80734,0.10256,184.41')\n",
    "    elif '5cext' in pdb_out:\n",
    "        print('view matrix camera -0.25435,0.16105,-0.9536,-88.048,0.967,0.02781,-0.25324,169.55,-0.014263,-0.98656,-0.16281,214.95')\n",
    "    elif '5bext' in pdb_out:\n",
    "        print('view matrix camera 0.12234,-0.0011095,0.99248,550.13,0.9915,0.044647,-0.12217,135.96,-0.044175,0.999,0.0065658,182.79')\n",
    "    elif 'SL56' in pdb_out:\n",
    "        print('view matrix camera 0.17885,-0.048562,0.98267,494.66,-0.97322,0.13785,0.18394,260.67,-0.14439,-0.98926,-0.022611,213.41')\n",
    "    elif 'SARS-CoV-2' in pdb_out:\n",
    "        print('view matrix camera -0.054739,0.054873,0.99699,475.03,0.93475,-0.34824,0.070482,181.66,0.35106,0.9358,-0.032229,128.43')\n",
    "    print(f'save convergence/{pdb_out}_conv.png transparentbackground true pixelSize 0.1')\n",
    "    "
   ]
  },
  {
   "cell_type": "code",
   "execution_count": 4,
   "id": "6d2a4ba9-9659-413c-946d-c723e5fe2305",
   "metadata": {
    "scrolled": true,
    "tags": []
   },
   "outputs": [
    {
     "name": "stdout",
     "output_type": "stream",
     "text": [
      "close all\n",
      "open MERS_conf1_icSHAPE_eternafold_Qscore.pdb\n",
      "color byattribute bfactor #1 palette red:white:blue range 0,0.34\n",
      "view matrix camera -0.054773,0.041313,0.99764,376.22,0.99723,0.052569,0.052574,156.66,-0.050273,0.99776,-0.044078,127.49\n",
      "save Qscore/MERS_conf1_icSHAPE_eternafold__Q.png transparentbackground true pixelSize 0.1\n",
      "close all\n",
      "open MERS_conf1_icSHAPE_eternafold_convergence.pdb\n",
      "color byattribute bfactor #1 palette blue:white:red range 0,6\n",
      "view matrix camera -0.054773,0.041313,0.99764,376.22,0.99723,0.052569,0.052574,156.66,-0.050273,0.99776,-0.044078,127.49\n",
      "save convergence/MERS_conf1_icSHAPE_eternafold__conv.png transparentbackground true pixelSize 0.1\n",
      "close all\n",
      "open MERS_conf1_libraryDMS_Qscore.pdb\n",
      "color byattribute bfactor #1 palette red:white:blue range 0,0.34\n",
      "view matrix camera -0.054773,0.041313,0.99764,376.22,0.99723,0.052569,0.052574,156.66,-0.050273,0.99776,-0.044078,127.49\n",
      "save Qscore/MERS_conf1_libraryDMS__Q.png transparentbackground true pixelSize 0.1\n",
      "close all\n",
      "open MERS_conf1_libraryDMS_convergence.pdb\n",
      "color byattribute bfactor #1 palette blue:white:red range 0,6\n",
      "view matrix camera -0.054773,0.041313,0.99764,376.22,0.99723,0.052569,0.052574,156.66,-0.050273,0.99776,-0.044078,127.49\n",
      "save convergence/MERS_conf1_libraryDMS__conv.png transparentbackground true pixelSize 0.1\n",
      "close all\n",
      "open MERS_conf1_librarySHAPE_Qscore.pdb\n",
      "color byattribute bfactor #1 palette red:white:blue range 0,0.34\n",
      "view matrix camera -0.054773,0.041313,0.99764,376.22,0.99723,0.052569,0.052574,156.66,-0.050273,0.99776,-0.044078,127.49\n",
      "save Qscore/MERS_conf1_librarySHAPE__Q.png transparentbackground true pixelSize 0.1\n",
      "close all\n",
      "open MERS_conf1_librarySHAPE_convergence.pdb\n",
      "color byattribute bfactor #1 palette blue:white:red range 0,6\n",
      "view matrix camera -0.054773,0.041313,0.99764,376.22,0.99723,0.052569,0.052574,156.66,-0.050273,0.99776,-0.044078,127.49\n",
      "save convergence/MERS_conf1_librarySHAPE__conv.png transparentbackground true pixelSize 0.1\n",
      "close all\n",
      "open MERS_conf2_icSHAPE_eternafold_Qscore.pdb\n",
      "color byattribute bfactor #1 palette red:white:blue range 0,0.34\n",
      "view matrix camera -0.054773,0.041313,0.99764,376.22,0.99723,0.052569,0.052574,156.66,-0.050273,0.99776,-0.044078,127.49\n",
      "save Qscore/MERS_conf2_icSHAPE_eternafold__Q.png transparentbackground true pixelSize 0.1\n",
      "close all\n",
      "open MERS_conf2_icSHAPE_eternafold_convergence.pdb\n",
      "color byattribute bfactor #1 palette blue:white:red range 0,6\n",
      "view matrix camera -0.054773,0.041313,0.99764,376.22,0.99723,0.052569,0.052574,156.66,-0.050273,0.99776,-0.044078,127.49\n",
      "save convergence/MERS_conf2_icSHAPE_eternafold__conv.png transparentbackground true pixelSize 0.1\n",
      "close all\n",
      "open MERS_conf2_libraryDMS_Qscore.pdb\n",
      "color byattribute bfactor #1 palette red:white:blue range 0,0.34\n",
      "view matrix camera -0.054773,0.041313,0.99764,376.22,0.99723,0.052569,0.052574,156.66,-0.050273,0.99776,-0.044078,127.49\n",
      "save Qscore/MERS_conf2_libraryDMS__Q.png transparentbackground true pixelSize 0.1\n",
      "close all\n",
      "open MERS_conf2_libraryDMS_convergence.pdb\n",
      "color byattribute bfactor #1 palette blue:white:red range 0,6\n",
      "view matrix camera -0.054773,0.041313,0.99764,376.22,0.99723,0.052569,0.052574,156.66,-0.050273,0.99776,-0.044078,127.49\n",
      "save convergence/MERS_conf2_libraryDMS__conv.png transparentbackground true pixelSize 0.1\n",
      "close all\n",
      "open MERS_conf2_librarySHAPE_Qscore.pdb\n",
      "color byattribute bfactor #1 palette red:white:blue range 0,0.34\n",
      "view matrix camera -0.054773,0.041313,0.99764,376.22,0.99723,0.052569,0.052574,156.66,-0.050273,0.99776,-0.044078,127.49\n",
      "save Qscore/MERS_conf2_librarySHAPE__Q.png transparentbackground true pixelSize 0.1\n",
      "close all\n",
      "open MERS_conf2_librarySHAPE_convergence.pdb\n",
      "color byattribute bfactor #1 palette blue:white:red range 0,6\n",
      "view matrix camera -0.054773,0.041313,0.99764,376.22,0.99723,0.052569,0.052574,156.66,-0.050273,0.99776,-0.044078,127.49\n",
      "save convergence/MERS_conf2_librarySHAPE__conv.png transparentbackground true pixelSize 0.1\n",
      "close all\n",
      "open MERS_conf3_icSHAPE_eternafold_Qscore.pdb\n",
      "color byattribute bfactor #1 palette red:white:blue range 0,0.34\n",
      "view matrix camera -0.054773,0.041313,0.99764,376.22,0.99723,0.052569,0.052574,156.66,-0.050273,0.99776,-0.044078,127.49\n",
      "save Qscore/MERS_conf3_icSHAPE_eternafold__Q.png transparentbackground true pixelSize 0.1\n",
      "close all\n",
      "open MERS_conf3_icSHAPE_eternafold_convergence.pdb\n",
      "color byattribute bfactor #1 palette blue:white:red range 0,6\n",
      "view matrix camera -0.054773,0.041313,0.99764,376.22,0.99723,0.052569,0.052574,156.66,-0.050273,0.99776,-0.044078,127.49\n",
      "save convergence/MERS_conf3_icSHAPE_eternafold__conv.png transparentbackground true pixelSize 0.1\n",
      "close all\n",
      "open MERS_conf3_libraryDMS_Qscore.pdb\n",
      "color byattribute bfactor #1 palette red:white:blue range 0,0.34\n",
      "view matrix camera -0.054773,0.041313,0.99764,376.22,0.99723,0.052569,0.052574,156.66,-0.050273,0.99776,-0.044078,127.49\n",
      "save Qscore/MERS_conf3_libraryDMS__Q.png transparentbackground true pixelSize 0.1\n",
      "close all\n",
      "open MERS_conf3_libraryDMS_convergence.pdb\n",
      "color byattribute bfactor #1 palette blue:white:red range 0,6\n",
      "view matrix camera -0.054773,0.041313,0.99764,376.22,0.99723,0.052569,0.052574,156.66,-0.050273,0.99776,-0.044078,127.49\n",
      "save convergence/MERS_conf3_libraryDMS__conv.png transparentbackground true pixelSize 0.1\n",
      "close all\n",
      "open MERS_conf3_librarySHAPE_Qscore.pdb\n",
      "color byattribute bfactor #1 palette red:white:blue range 0,0.34\n",
      "view matrix camera -0.054773,0.041313,0.99764,376.22,0.99723,0.052569,0.052574,156.66,-0.050273,0.99776,-0.044078,127.49\n",
      "save Qscore/MERS_conf3_librarySHAPE__Q.png transparentbackground true pixelSize 0.1\n",
      "close all\n",
      "open MERS_conf3_librarySHAPE_convergence.pdb\n",
      "color byattribute bfactor #1 palette blue:white:red range 0,6\n",
      "view matrix camera -0.054773,0.041313,0.99764,376.22,0.99723,0.052569,0.052574,156.66,-0.050273,0.99776,-0.044078,127.49\n",
      "save convergence/MERS_conf3_librarySHAPE__conv.png transparentbackground true pixelSize 0.1\n"
     ]
    }
   ],
   "source": [
    "# MERS\n",
    "\n",
    "data_file = '../analysis/convergence/MERS_SL5_per-residue-scores.csv'\n",
    "\n",
    "for i in range(1,4):\n",
    "    conformation = f'conf{i}'\n",
    "    \n",
    "    q_file = f'../analysis/map_to_model/auto-drrafter_erraser_MERS_conf{i}_icSHAPE_eternafold_per_residue.csv'\n",
    "    pdb_file = f'../models/auto-drrafter_erraser/MERS/conf{i}/icSHAPE_eternafold/MERS_Sun_icSHAPE_all_models_all_fits_FINAL_R3.out.1.pdbFINISHED_1.pdb'\n",
    "    pdb_out = f'MERS_conf{i}_icSHAPE_eternafold_'\n",
    "    sec_struct = 'icSHAPE_eternafold'\n",
    "    get_pdbs_multiconf(data_file,q_file,pdb_file,pdb_out,sec_struct,conformation)\n",
    "\n",
    "    q_file = f'../analysis/map_to_model/auto-drrafter_erraser_MERS_conf{i}_libraryDMS_per_residue.csv'\n",
    "    pdb_file = f'../models/auto-drrafter_erraser/MERS/conf{i}/libraryDMS/MERS_DMS_all_models_all_fits_FINAL_R3.out.1.pdbFINISHED_1.pdb'\n",
    "    pdb_out = f'MERS_conf{i}_libraryDMS_'\n",
    "    sec_struct = 'libraryDMS'\n",
    "    get_pdbs_multiconf(data_file,q_file,pdb_file,pdb_out,sec_struct,conformation)\n",
    "\n",
    "    q_file = f'../analysis/map_to_model/auto-drrafter_erraser_MERS_conf{i}_librarySHAPE_per_residue.csv'\n",
    "    pdb_file = f'../models/auto-drrafter_erraser/MERS/conf{i}/librarySHAPE/MERS_SHAPE_all_models_all_fits_FINAL_R3.out.1.pdbFINISHED_1.pdb'\n",
    "    pdb_out = f'MERS_conf{i}_librarySHAPE_'\n",
    "    sec_struct = 'librarySHAPE'\n",
    "    get_pdbs_multiconf(data_file,q_file,pdb_file,pdb_out,sec_struct,conformation)"
   ]
  },
  {
   "cell_type": "code",
   "execution_count": 5,
   "id": "e9eb8788-d034-44f6-92e4-497325ae0101",
   "metadata": {
    "scrolled": true,
    "tags": []
   },
   "outputs": [
    {
     "name": "stdout",
     "output_type": "stream",
     "text": [
      "close all\n",
      "open BtCoV-HKU5_conf1_icSHAPEQscore.pdb\n",
      "color byattribute bfactor #1 palette red:white:blue range 0,0.34\n",
      "view matrix camera 0.16236,0.10822,0.98078,302.2,0.98606,0.018985,-0.16533,44.556,-0.036512,0.99395,-0.10363,53.749\n",
      "save Qscore/BtCoV-HKU5_conf1_icSHAPE_Q.png transparentbackground true pixelSize 0.1\n",
      "close all\n",
      "open BtCoV-HKU5_conf1_icSHAPEconvergence.pdb\n",
      "color byattribute bfactor #1 palette blue:white:red range 0,6\n",
      "view matrix camera 0.16236,0.10822,0.98078,302.2,0.98606,0.018985,-0.16533,44.556,-0.036512,0.99395,-0.10363,53.749\n",
      "save convergence/BtCoV-HKU5_conf1_icSHAPE_conv.png transparentbackground true pixelSize 0.1\n",
      "close all\n",
      "open BtCoV-HKU5_conf1_eternafoldQscore.pdb\n",
      "color byattribute bfactor #1 palette red:white:blue range 0,0.34\n",
      "view matrix camera 0.16236,0.10822,0.98078,302.2,0.98606,0.018985,-0.16533,44.556,-0.036512,0.99395,-0.10363,53.749\n",
      "save Qscore/BtCoV-HKU5_conf1_eternafold_Q.png transparentbackground true pixelSize 0.1\n",
      "close all\n",
      "open BtCoV-HKU5_conf1_eternafoldconvergence.pdb\n",
      "color byattribute bfactor #1 palette blue:white:red range 0,6\n",
      "view matrix camera 0.16236,0.10822,0.98078,302.2,0.98606,0.018985,-0.16533,44.556,-0.036512,0.99395,-0.10363,53.749\n",
      "save convergence/BtCoV-HKU5_conf1_eternafold_conv.png transparentbackground true pixelSize 0.1\n",
      "close all\n",
      "open BtCoV-HKU5_conf1_libraryDMS_Qscore.pdb\n",
      "color byattribute bfactor #1 palette red:white:blue range 0,0.34\n",
      "view matrix camera 0.16236,0.10822,0.98078,302.2,0.98606,0.018985,-0.16533,44.556,-0.036512,0.99395,-0.10363,53.749\n",
      "save Qscore/BtCoV-HKU5_conf1_libraryDMS__Q.png transparentbackground true pixelSize 0.1\n",
      "close all\n",
      "open BtCoV-HKU5_conf1_libraryDMS_convergence.pdb\n",
      "color byattribute bfactor #1 palette blue:white:red range 0,6\n",
      "view matrix camera 0.16236,0.10822,0.98078,302.2,0.98606,0.018985,-0.16533,44.556,-0.036512,0.99395,-0.10363,53.749\n",
      "save convergence/BtCoV-HKU5_conf1_libraryDMS__conv.png transparentbackground true pixelSize 0.1\n",
      "close all\n",
      "open BtCoV-HKU5_conf1_librarySHAPE_Qscore.pdb\n",
      "color byattribute bfactor #1 palette red:white:blue range 0,0.34\n",
      "view matrix camera 0.16236,0.10822,0.98078,302.2,0.98606,0.018985,-0.16533,44.556,-0.036512,0.99395,-0.10363,53.749\n",
      "save Qscore/BtCoV-HKU5_conf1_librarySHAPE__Q.png transparentbackground true pixelSize 0.1\n",
      "close all\n",
      "open BtCoV-HKU5_conf1_librarySHAPE_convergence.pdb\n",
      "color byattribute bfactor #1 palette blue:white:red range 0,6\n",
      "view matrix camera 0.16236,0.10822,0.98078,302.2,0.98606,0.018985,-0.16533,44.556,-0.036512,0.99395,-0.10363,53.749\n",
      "save convergence/BtCoV-HKU5_conf1_librarySHAPE__conv.png transparentbackground true pixelSize 0.1\n",
      "close all\n",
      "open BtCoV-HKU5_conf2_icSHAPEQscore.pdb\n",
      "color byattribute bfactor #1 palette red:white:blue range 0,0.34\n",
      "view matrix camera 0.16236,0.10822,0.98078,302.2,0.98606,0.018985,-0.16533,44.556,-0.036512,0.99395,-0.10363,53.749\n",
      "save Qscore/BtCoV-HKU5_conf2_icSHAPE_Q.png transparentbackground true pixelSize 0.1\n",
      "close all\n",
      "open BtCoV-HKU5_conf2_icSHAPEconvergence.pdb\n",
      "color byattribute bfactor #1 palette blue:white:red range 0,6\n",
      "view matrix camera 0.16236,0.10822,0.98078,302.2,0.98606,0.018985,-0.16533,44.556,-0.036512,0.99395,-0.10363,53.749\n",
      "save convergence/BtCoV-HKU5_conf2_icSHAPE_conv.png transparentbackground true pixelSize 0.1\n",
      "close all\n",
      "open BtCoV-HKU5_conf2_eternafoldQscore.pdb\n",
      "color byattribute bfactor #1 palette red:white:blue range 0,0.34\n",
      "view matrix camera 0.16236,0.10822,0.98078,302.2,0.98606,0.018985,-0.16533,44.556,-0.036512,0.99395,-0.10363,53.749\n",
      "save Qscore/BtCoV-HKU5_conf2_eternafold_Q.png transparentbackground true pixelSize 0.1\n",
      "close all\n",
      "open BtCoV-HKU5_conf2_eternafoldconvergence.pdb\n",
      "color byattribute bfactor #1 palette blue:white:red range 0,6\n",
      "view matrix camera 0.16236,0.10822,0.98078,302.2,0.98606,0.018985,-0.16533,44.556,-0.036512,0.99395,-0.10363,53.749\n",
      "save convergence/BtCoV-HKU5_conf2_eternafold_conv.png transparentbackground true pixelSize 0.1\n",
      "close all\n",
      "open BtCoV-HKU5_conf2_libraryDMS_Qscore.pdb\n",
      "color byattribute bfactor #1 palette red:white:blue range 0,0.34\n",
      "view matrix camera 0.16236,0.10822,0.98078,302.2,0.98606,0.018985,-0.16533,44.556,-0.036512,0.99395,-0.10363,53.749\n",
      "save Qscore/BtCoV-HKU5_conf2_libraryDMS__Q.png transparentbackground true pixelSize 0.1\n",
      "close all\n",
      "open BtCoV-HKU5_conf2_libraryDMS_convergence.pdb\n",
      "color byattribute bfactor #1 palette blue:white:red range 0,6\n",
      "view matrix camera 0.16236,0.10822,0.98078,302.2,0.98606,0.018985,-0.16533,44.556,-0.036512,0.99395,-0.10363,53.749\n",
      "save convergence/BtCoV-HKU5_conf2_libraryDMS__conv.png transparentbackground true pixelSize 0.1\n",
      "close all\n",
      "open BtCoV-HKU5_conf2_librarySHAPE_Qscore.pdb\n",
      "color byattribute bfactor #1 palette red:white:blue range 0,0.34\n",
      "view matrix camera 0.16236,0.10822,0.98078,302.2,0.98606,0.018985,-0.16533,44.556,-0.036512,0.99395,-0.10363,53.749\n",
      "save Qscore/BtCoV-HKU5_conf2_librarySHAPE__Q.png transparentbackground true pixelSize 0.1\n",
      "close all\n",
      "open BtCoV-HKU5_conf2_librarySHAPE_convergence.pdb\n",
      "color byattribute bfactor #1 palette blue:white:red range 0,6\n",
      "view matrix camera 0.16236,0.10822,0.98078,302.2,0.98606,0.018985,-0.16533,44.556,-0.036512,0.99395,-0.10363,53.749\n",
      "save convergence/BtCoV-HKU5_conf2_librarySHAPE__conv.png transparentbackground true pixelSize 0.1\n",
      "close all\n",
      "open BtCoV-HKU5_conf3_icSHAPEQscore.pdb\n",
      "color byattribute bfactor #1 palette red:white:blue range 0,0.34\n",
      "view matrix camera 0.16236,0.10822,0.98078,302.2,0.98606,0.018985,-0.16533,44.556,-0.036512,0.99395,-0.10363,53.749\n",
      "save Qscore/BtCoV-HKU5_conf3_icSHAPE_Q.png transparentbackground true pixelSize 0.1\n",
      "close all\n",
      "open BtCoV-HKU5_conf3_icSHAPEconvergence.pdb\n",
      "color byattribute bfactor #1 palette blue:white:red range 0,6\n",
      "view matrix camera 0.16236,0.10822,0.98078,302.2,0.98606,0.018985,-0.16533,44.556,-0.036512,0.99395,-0.10363,53.749\n",
      "save convergence/BtCoV-HKU5_conf3_icSHAPE_conv.png transparentbackground true pixelSize 0.1\n",
      "close all\n",
      "open BtCoV-HKU5_conf3_eternafoldQscore.pdb\n",
      "color byattribute bfactor #1 palette red:white:blue range 0,0.34\n",
      "view matrix camera 0.16236,0.10822,0.98078,302.2,0.98606,0.018985,-0.16533,44.556,-0.036512,0.99395,-0.10363,53.749\n",
      "save Qscore/BtCoV-HKU5_conf3_eternafold_Q.png transparentbackground true pixelSize 0.1\n",
      "close all\n",
      "open BtCoV-HKU5_conf3_eternafoldconvergence.pdb\n",
      "color byattribute bfactor #1 palette blue:white:red range 0,6\n",
      "view matrix camera 0.16236,0.10822,0.98078,302.2,0.98606,0.018985,-0.16533,44.556,-0.036512,0.99395,-0.10363,53.749\n",
      "save convergence/BtCoV-HKU5_conf3_eternafold_conv.png transparentbackground true pixelSize 0.1\n",
      "close all\n",
      "open BtCoV-HKU5_conf3_libraryDMS_Qscore.pdb\n",
      "color byattribute bfactor #1 palette red:white:blue range 0,0.34\n",
      "view matrix camera 0.16236,0.10822,0.98078,302.2,0.98606,0.018985,-0.16533,44.556,-0.036512,0.99395,-0.10363,53.749\n",
      "save Qscore/BtCoV-HKU5_conf3_libraryDMS__Q.png transparentbackground true pixelSize 0.1\n",
      "close all\n",
      "open BtCoV-HKU5_conf3_libraryDMS_convergence.pdb\n",
      "color byattribute bfactor #1 palette blue:white:red range 0,6\n",
      "view matrix camera 0.16236,0.10822,0.98078,302.2,0.98606,0.018985,-0.16533,44.556,-0.036512,0.99395,-0.10363,53.749\n",
      "save convergence/BtCoV-HKU5_conf3_libraryDMS__conv.png transparentbackground true pixelSize 0.1\n",
      "close all\n",
      "open BtCoV-HKU5_conf3_librarySHAPE_Qscore.pdb\n",
      "color byattribute bfactor #1 palette red:white:blue range 0,0.34\n",
      "view matrix camera 0.16236,0.10822,0.98078,302.2,0.98606,0.018985,-0.16533,44.556,-0.036512,0.99395,-0.10363,53.749\n",
      "save Qscore/BtCoV-HKU5_conf3_librarySHAPE__Q.png transparentbackground true pixelSize 0.1\n",
      "close all\n",
      "open BtCoV-HKU5_conf3_librarySHAPE_convergence.pdb\n",
      "color byattribute bfactor #1 palette blue:white:red range 0,6\n",
      "view matrix camera 0.16236,0.10822,0.98078,302.2,0.98606,0.018985,-0.16533,44.556,-0.036512,0.99395,-0.10363,53.749\n",
      "save convergence/BtCoV-HKU5_conf3_librarySHAPE__conv.png transparentbackground true pixelSize 0.1\n",
      "close all\n",
      "open BtCoV-HKU5_conf4_icSHAPEQscore.pdb\n",
      "color byattribute bfactor #1 palette red:white:blue range 0,0.34\n",
      "view matrix camera 0.16236,0.10822,0.98078,302.2,0.98606,0.018985,-0.16533,44.556,-0.036512,0.99395,-0.10363,53.749\n",
      "save Qscore/BtCoV-HKU5_conf4_icSHAPE_Q.png transparentbackground true pixelSize 0.1\n",
      "close all\n",
      "open BtCoV-HKU5_conf4_icSHAPEconvergence.pdb\n",
      "color byattribute bfactor #1 palette blue:white:red range 0,6\n",
      "view matrix camera 0.16236,0.10822,0.98078,302.2,0.98606,0.018985,-0.16533,44.556,-0.036512,0.99395,-0.10363,53.749\n",
      "save convergence/BtCoV-HKU5_conf4_icSHAPE_conv.png transparentbackground true pixelSize 0.1\n",
      "close all\n",
      "open BtCoV-HKU5_conf4_eternafoldQscore.pdb\n",
      "color byattribute bfactor #1 palette red:white:blue range 0,0.34\n",
      "view matrix camera 0.16236,0.10822,0.98078,302.2,0.98606,0.018985,-0.16533,44.556,-0.036512,0.99395,-0.10363,53.749\n",
      "save Qscore/BtCoV-HKU5_conf4_eternafold_Q.png transparentbackground true pixelSize 0.1\n",
      "close all\n",
      "open BtCoV-HKU5_conf4_eternafoldconvergence.pdb\n",
      "color byattribute bfactor #1 palette blue:white:red range 0,6\n",
      "view matrix camera 0.16236,0.10822,0.98078,302.2,0.98606,0.018985,-0.16533,44.556,-0.036512,0.99395,-0.10363,53.749\n",
      "save convergence/BtCoV-HKU5_conf4_eternafold_conv.png transparentbackground true pixelSize 0.1\n",
      "close all\n",
      "open BtCoV-HKU5_conf4_libraryDMS_Qscore.pdb\n",
      "color byattribute bfactor #1 palette red:white:blue range 0,0.34\n",
      "view matrix camera 0.16236,0.10822,0.98078,302.2,0.98606,0.018985,-0.16533,44.556,-0.036512,0.99395,-0.10363,53.749\n",
      "save Qscore/BtCoV-HKU5_conf4_libraryDMS__Q.png transparentbackground true pixelSize 0.1\n",
      "close all\n",
      "open BtCoV-HKU5_conf4_libraryDMS_convergence.pdb\n",
      "color byattribute bfactor #1 palette blue:white:red range 0,6\n",
      "view matrix camera 0.16236,0.10822,0.98078,302.2,0.98606,0.018985,-0.16533,44.556,-0.036512,0.99395,-0.10363,53.749\n",
      "save convergence/BtCoV-HKU5_conf4_libraryDMS__conv.png transparentbackground true pixelSize 0.1\n",
      "close all\n",
      "open BtCoV-HKU5_conf4_librarySHAPE_Qscore.pdb\n",
      "color byattribute bfactor #1 palette red:white:blue range 0,0.34\n",
      "view matrix camera 0.16236,0.10822,0.98078,302.2,0.98606,0.018985,-0.16533,44.556,-0.036512,0.99395,-0.10363,53.749\n",
      "save Qscore/BtCoV-HKU5_conf4_librarySHAPE__Q.png transparentbackground true pixelSize 0.1\n",
      "close all\n",
      "open BtCoV-HKU5_conf4_librarySHAPE_convergence.pdb\n",
      "color byattribute bfactor #1 palette blue:white:red range 0,6\n",
      "view matrix camera 0.16236,0.10822,0.98078,302.2,0.98606,0.018985,-0.16533,44.556,-0.036512,0.99395,-0.10363,53.749\n",
      "save convergence/BtCoV-HKU5_conf4_librarySHAPE__conv.png transparentbackground true pixelSize 0.1\n"
     ]
    }
   ],
   "source": [
    "#BtCoV\n",
    "\n",
    "data_file = '../analysis/convergence/BtCoV-HKU5_SL5_per-residue-scores.csv'\n",
    "\n",
    "for i in range(1,5):\n",
    "    conformation = f'conf{i}'\n",
    "    \n",
    "    q_file = f'../analysis/map_to_model/auto-drrafter_erraser_BtCoV-HKU5_conf{i}_icSHAPE_per_residue.csv'\n",
    "    pdb_file = glob(f'../models/auto-drrafter_erraser/BtCoV-HKU5/conf{i}/icSHAPE/BtCoV_HKU5_Sun_icSHAPE_G317A_all_models_all_fits_FINAL_R*.out.1.pdbFINISHED_1.pdb')[0]\n",
    "    pdb_out = f'BtCoV-HKU5_conf{i}_icSHAPE'\n",
    "    sec_struct = 'icSHAPE'\n",
    "    get_pdbs_multiconf(data_file,q_file,pdb_file,pdb_out,sec_struct,conformation)\n",
    "    \n",
    "    q_file = f'../analysis/map_to_model/auto-drrafter_erraser_BtCoV-HKU5_conf{i}_eternafold_per_residue.csv'\n",
    "    pdb_file = glob(f'../models/auto-drrafter_erraser/BtCoV-HKU5/conf{i}/eternafold/BtCoV_HKU5_eternafold_all_models_all_fits_FINAL_R*.out.1.pdbFINISHED_1.pdb')[0]\n",
    "    pdb_out = f'BtCoV-HKU5_conf{i}_eternafold'\n",
    "    sec_struct = 'eternafold'\n",
    "    get_pdbs_multiconf(data_file,q_file,pdb_file,pdb_out,sec_struct,conformation)\n",
    "\n",
    "    q_file = f'../analysis/map_to_model/auto-drrafter_erraser_BtCoV-HKU5_conf{i}_libraryDMS_per_residue.csv'\n",
    "    pdb_file = glob(f'../models/auto-drrafter_erraser/BtCoV-HKU5/conf{i}/libraryDMS/BtCoV_HKU5_dms_all_models_all_fits_FINAL_R*.out.1.pdbFINISHED_1.pdb')[0]\n",
    "    pdb_out = f'BtCoV-HKU5_conf{i}_libraryDMS_'\n",
    "    sec_struct = 'libraryDMS'\n",
    "    get_pdbs_multiconf(data_file,q_file,pdb_file,pdb_out,sec_struct,conformation)\n",
    "\n",
    "    q_file = f'../analysis/map_to_model/auto-drrafter_erraser_BtCoV-HKU5_conf{i}_librarySHAPE_per_residue.csv'\n",
    "    pdb_file = glob(f'../models/auto-drrafter_erraser/BtCoV-HKU5/conf{i}/librarySHAPE/BtCoV_HKU5_shape_all_models_all_fits_FINAL_R*.out.1.pdbFINISHED_1.pdb')[0]\n",
    "    pdb_out = f'BtCoV-HKU5_conf{i}_librarySHAPE_'\n",
    "    sec_struct = 'librarySHAPE'\n",
    "    get_pdbs_multiconf(data_file,q_file,pdb_file,pdb_out,sec_struct,conformation)"
   ]
  },
  {
   "cell_type": "code",
   "execution_count": 6,
   "id": "9b064365-5868-46a3-a957-0adbdd76f183",
   "metadata": {
    "scrolled": true,
    "tags": []
   },
   "outputs": [
    {
     "name": "stdout",
     "output_type": "stream",
     "text": [
      "close all\n",
      "open SARS-CoV-2_icSHAPE_Qscore.pdb\n",
      "color byattribute bfactor #1 palette red:white:blue range 0,0.34\n",
      "view matrix camera -0.054739,0.054873,0.99699,475.03,0.93475,-0.34824,0.070482,181.66,0.35106,0.9358,-0.032229,128.43\n",
      "save Qscore/SARS-CoV-2_icSHAPE__Q.png transparentbackground true pixelSize 0.1\n",
      "close all\n",
      "open SARS-CoV-2_icSHAPE_convergence.pdb\n",
      "color byattribute bfactor #1 palette blue:white:red range 0,6\n",
      "view matrix camera -0.054739,0.054873,0.99699,475.03,0.93475,-0.34824,0.070482,181.66,0.35106,0.9358,-0.032229,128.43\n",
      "save convergence/SARS-CoV-2_icSHAPE__conv.png transparentbackground true pixelSize 0.1\n",
      "close all\n",
      "open SARS-CoV-2_m2seq_librarySHAPE_eternafold_Qscore.pdb\n",
      "color byattribute bfactor #1 palette red:white:blue range 0,0.34\n",
      "view matrix camera -0.054739,0.054873,0.99699,475.03,0.93475,-0.34824,0.070482,181.66,0.35106,0.9358,-0.032229,128.43\n",
      "save Qscore/SARS-CoV-2_m2seq_librarySHAPE_eternafold__Q.png transparentbackground true pixelSize 0.1\n",
      "close all\n",
      "open SARS-CoV-2_m2seq_librarySHAPE_eternafold_convergence.pdb\n",
      "color byattribute bfactor #1 palette blue:white:red range 0,6\n",
      "view matrix camera -0.054739,0.054873,0.99699,475.03,0.93475,-0.34824,0.070482,181.66,0.35106,0.9358,-0.032229,128.43\n",
      "save convergence/SARS-CoV-2_m2seq_librarySHAPE_eternafold__conv.png transparentbackground true pixelSize 0.1\n",
      "close all\n",
      "open SARS-CoV-2_libraryDMS_Qscore.pdb\n",
      "color byattribute bfactor #1 palette red:white:blue range 0,0.34\n",
      "view matrix camera -0.054739,0.054873,0.99699,475.03,0.93475,-0.34824,0.070482,181.66,0.35106,0.9358,-0.032229,128.43\n",
      "save Qscore/SARS-CoV-2_libraryDMS__Q.png transparentbackground true pixelSize 0.1\n",
      "close all\n",
      "open SARS-CoV-2_libraryDMS_convergence.pdb\n",
      "color byattribute bfactor #1 palette blue:white:red range 0,6\n",
      "view matrix camera -0.054739,0.054873,0.99699,475.03,0.93475,-0.34824,0.070482,181.66,0.35106,0.9358,-0.032229,128.43\n",
      "save convergence/SARS-CoV-2_libraryDMS__conv.png transparentbackground true pixelSize 0.1\n"
     ]
    }
   ],
   "source": [
    "# SARS2\n",
    "data_file = '../analysis/convergence/SARS-CoV-2_SL5_per-residue-scores.csv'\n",
    "\n",
    "q_file = f'../analysis/map_to_model/auto-drrafter_erraser_SARS-CoV-2_icSHAPE_per_residue.csv'\n",
    "pdb_file = glob(f'../models/auto-drrafter_erraser/SARS-CoV-2/icSHAPE/SARS_CoV_2-SL5_Sun_icSHAPE_all_models_all_fits_FINAL_R*.out.1.pdbFINISHED_1.pdb')[0]\n",
    "pdb_out = f'SARS-CoV-2_icSHAPE_'\n",
    "sec_struct = 'icSHAPE'\n",
    "get_pdbs_multiconf(data_file,q_file,pdb_file,pdb_out,sec_struct)\n",
    "\n",
    "q_file = f'../analysis/map_to_model/auto-drrafter_erraser_SARS-CoV-2_m2seq_librarySHAPE_eternafold_per_residue.csv'\n",
    "pdb_file = glob(f'../models/auto-drrafter_erraser/SARS-CoV-2/m2seq_librarySHAPE_eternafold/SARS_CoV_2-SL5_m2seq_librarySHAPE_eternafold_all_models_all_fits_FINAL_R*.out.1.pdbFINISHED_1.pdb')[0]\n",
    "pdb_out = f'SARS-CoV-2_m2seq_librarySHAPE_eternafold_'\n",
    "sec_struct = 'm2seq_librarySHAPE_eternafold'\n",
    "get_pdbs_multiconf(data_file,q_file,pdb_file,pdb_out,sec_struct)\n",
    "\n",
    "q_file = f'../analysis/map_to_model/auto-drrafter_erraser_SARS-CoV-2_libraryDMS_per_residue.csv'\n",
    "pdb_file = glob(f'../models/auto-drrafter_erraser/SARS-CoV-2/libraryDMS/SARS_CoV_2-SL5_libraryDMS_all_models_all_fits_FINAL_R*.out.1.pdbFINISHED_1.pdb')[0]\n",
    "pdb_out = f'SARS-CoV-2_libraryDMS_'\n",
    "sec_struct = 'libraryDMS'\n",
    "get_pdbs_multiconf(data_file,q_file,pdb_file,pdb_out,sec_struct)"
   ]
  },
  {
   "cell_type": "code",
   "execution_count": 7,
   "id": "09f7aaed-407e-41a4-97cd-89afc6329e1b",
   "metadata": {},
   "outputs": [
    {
     "name": "stdout",
     "output_type": "stream",
     "text": [
      "close all\n",
      "open SARS-CoV-2_SL56_icSHAPE_Qscore.pdb\n",
      "color byattribute bfactor #1 palette red:white:blue range 0,0.34\n",
      "view matrix camera 0.17885,-0.048562,0.98267,494.66,-0.97322,0.13785,0.18394,260.67,-0.14439,-0.98926,-0.022611,213.41\n",
      "save Qscore/SARS-CoV-2_SL56_icSHAPE__Q.png transparentbackground true pixelSize 0.1\n",
      "close all\n",
      "open SARS-CoV-2_SL56_icSHAPE_convergence.pdb\n",
      "color byattribute bfactor #1 palette blue:white:red range 0,6\n",
      "view matrix camera 0.17885,-0.048562,0.98267,494.66,-0.97322,0.13785,0.18394,260.67,-0.14439,-0.98926,-0.022611,213.41\n",
      "save convergence/SARS-CoV-2_SL56_icSHAPE__conv.png transparentbackground true pixelSize 0.1\n",
      "close all\n",
      "open SARS-CoV-2_SL56_m2seq_Qscore.pdb\n",
      "color byattribute bfactor #1 palette red:white:blue range 0,0.34\n",
      "view matrix camera 0.17885,-0.048562,0.98267,494.66,-0.97322,0.13785,0.18394,260.67,-0.14439,-0.98926,-0.022611,213.41\n",
      "save Qscore/SARS-CoV-2_SL56_m2seq__Q.png transparentbackground true pixelSize 0.1\n",
      "close all\n",
      "open SARS-CoV-2_SL56_m2seq_convergence.pdb\n",
      "color byattribute bfactor #1 palette blue:white:red range 0,6\n",
      "view matrix camera 0.17885,-0.048562,0.98267,494.66,-0.97322,0.13785,0.18394,260.67,-0.14439,-0.98926,-0.022611,213.41\n",
      "save convergence/SARS-CoV-2_SL56_m2seq__conv.png transparentbackground true pixelSize 0.1\n",
      "close all\n",
      "open SARS-CoV-2_SL56_eternafold_Qscore.pdb\n",
      "color byattribute bfactor #1 palette red:white:blue range 0,0.34\n",
      "view matrix camera 0.17885,-0.048562,0.98267,494.66,-0.97322,0.13785,0.18394,260.67,-0.14439,-0.98926,-0.022611,213.41\n",
      "save Qscore/SARS-CoV-2_SL56_eternafold__Q.png transparentbackground true pixelSize 0.1\n",
      "close all\n",
      "open SARS-CoV-2_SL56_eternafold_convergence.pdb\n",
      "color byattribute bfactor #1 palette blue:white:red range 0,6\n",
      "view matrix camera 0.17885,-0.048562,0.98267,494.66,-0.97322,0.13785,0.18394,260.67,-0.14439,-0.98926,-0.022611,213.41\n",
      "save convergence/SARS-CoV-2_SL56_eternafold__conv.png transparentbackground true pixelSize 0.1\n"
     ]
    }
   ],
   "source": [
    "# SARS2 SL56\n",
    "data_file = '../analysis/convergence/SARS-CoV-2_SL56_per-residue-scores.csv'\n",
    "\n",
    "q_file = f'../analysis/map_to_model/auto-drrafter_erraser_SARS-CoV-2_SL56_icSHAPE_per_residue.csv'\n",
    "pdb_file = glob(f'../models/auto-drrafter_erraser/SARS-CoV-2_SL56/icSHAPE/SARS_CoV_2-SL56_SL5only_Sun_icSHAPE_all_models_all_fits_FINAL_R*.out.1.pdbFINISHED_1.pdb')[0]\n",
    "pdb_out = f'SARS-CoV-2_SL56_icSHAPE_'\n",
    "sec_struct = 'icSHAPE'\n",
    "get_pdbs_multiconf(data_file,q_file,pdb_file,pdb_out,sec_struct)\n",
    "\n",
    "q_file = f'../analysis/map_to_model/auto-drrafter_erraser_SARS-CoV-2_SL56_m2seq_per_residue.csv'\n",
    "pdb_file = glob(f'../models/auto-drrafter_erraser/SARS-CoV-2_SL56/m2seq/SARS_CoV_2-SL56_SL5only_m2seq_all_models_all_fits_FINAL_R*.out.1.pdbFINISHED_1.pdb')[0]\n",
    "pdb_out = f'SARS-CoV-2_SL56_m2seq_'\n",
    "sec_struct = 'm2seq'\n",
    "get_pdbs_multiconf(data_file,q_file,pdb_file,pdb_out,sec_struct)\n",
    "\n",
    "q_file = f'../analysis/map_to_model/auto-drrafter_erraser_SARS-CoV-2_SL56_eternafold_per_residue.csv'\n",
    "pdb_file = glob(f'../models/auto-drrafter_erraser/SARS-CoV-2_SL56/eternafold/SARS_CoV_2-SL56_SL5only_eternafold_all_models_all_fits_FINAL_R*.out.1.pdbFINISHED_1.pdb')[0]\n",
    "pdb_out = f'SARS-CoV-2_SL56_eternafold_'\n",
    "sec_struct = 'eternafold'\n",
    "get_pdbs_multiconf(data_file,q_file,pdb_file,pdb_out,sec_struct)"
   ]
  },
  {
   "cell_type": "code",
   "execution_count": 8,
   "id": "94794f70-e3fa-4c55-9c86-415f94ec847b",
   "metadata": {},
   "outputs": [
    {
     "name": "stdout",
     "output_type": "stream",
     "text": [
      "close all\n",
      "open SARS-CoV-2_SL56-5cext_icSHAPE_Qscore.pdb\n",
      "color byattribute bfactor #1 palette red:white:blue range 0,0.34\n",
      "view matrix camera -0.25435,0.16105,-0.9536,-88.048,0.967,0.02781,-0.25324,169.55,-0.014263,-0.98656,-0.16281,214.95\n",
      "save Qscore/SARS-CoV-2_SL56-5cext_icSHAPE__Q.png transparentbackground true pixelSize 0.1\n",
      "close all\n",
      "open SARS-CoV-2_SL56-5cext_icSHAPE_convergence.pdb\n",
      "color byattribute bfactor #1 palette blue:white:red range 0,6\n",
      "view matrix camera -0.25435,0.16105,-0.9536,-88.048,0.967,0.02781,-0.25324,169.55,-0.014263,-0.98656,-0.16281,214.95\n",
      "save convergence/SARS-CoV-2_SL56-5cext_icSHAPE__conv.png transparentbackground true pixelSize 0.1\n",
      "close all\n",
      "open SARS-CoV-2_SL56-5cext_m2seq_Qscore.pdb\n",
      "color byattribute bfactor #1 palette red:white:blue range 0,0.34\n",
      "view matrix camera -0.25435,0.16105,-0.9536,-88.048,0.967,0.02781,-0.25324,169.55,-0.014263,-0.98656,-0.16281,214.95\n",
      "save Qscore/SARS-CoV-2_SL56-5cext_m2seq__Q.png transparentbackground true pixelSize 0.1\n",
      "close all\n",
      "open SARS-CoV-2_SL56-5cext_m2seq_convergence.pdb\n",
      "color byattribute bfactor #1 palette blue:white:red range 0,6\n",
      "view matrix camera -0.25435,0.16105,-0.9536,-88.048,0.967,0.02781,-0.25324,169.55,-0.014263,-0.98656,-0.16281,214.95\n",
      "save convergence/SARS-CoV-2_SL56-5cext_m2seq__conv.png transparentbackground true pixelSize 0.1\n",
      "close all\n",
      "open SARS-CoV-2_SL56-5cext_eternafold_Qscore.pdb\n",
      "color byattribute bfactor #1 palette red:white:blue range 0,0.34\n",
      "view matrix camera -0.25435,0.16105,-0.9536,-88.048,0.967,0.02781,-0.25324,169.55,-0.014263,-0.98656,-0.16281,214.95\n",
      "save Qscore/SARS-CoV-2_SL56-5cext_eternafold__Q.png transparentbackground true pixelSize 0.1\n",
      "close all\n",
      "open SARS-CoV-2_SL56-5cext_eternafold_convergence.pdb\n",
      "color byattribute bfactor #1 palette blue:white:red range 0,6\n",
      "view matrix camera -0.25435,0.16105,-0.9536,-88.048,0.967,0.02781,-0.25324,169.55,-0.014263,-0.98656,-0.16281,214.95\n",
      "save convergence/SARS-CoV-2_SL56-5cext_eternafold__conv.png transparentbackground true pixelSize 0.1\n"
     ]
    }
   ],
   "source": [
    "# SARS2 SL56 5cext\n",
    "data_file = '../analysis/convergence/SARS-CoV-2_SL56-5cext_per-residue-scores.csv'\n",
    "\n",
    "q_file = f'../analysis/map_to_model/auto-drrafter_erraser_SARS-CoV-2_SL56-5cext_icSHAPE_per_residue.csv'\n",
    "pdb_file = glob(f'../models/auto-drrafter_erraser/SARS-CoV-2_SL56-5cext/icSHAPE/SARS_CoV_2-SL56_5cext_SL5only_Sun_icSHAPE_all_models_all_fits_FINAL_R*.out.1.pdbFINISHED_1.pdb')[0]\n",
    "pdb_out = f'SARS-CoV-2_SL56-5cext_icSHAPE_'\n",
    "sec_struct = 'icSHAPE'\n",
    "get_pdbs_multiconf(data_file,q_file,pdb_file,pdb_out,sec_struct)\n",
    "\n",
    "q_file = f'../analysis/map_to_model/auto-drrafter_erraser_SARS-CoV-2_SL56-5cext_m2seq_per_residue.csv'\n",
    "pdb_file = glob(f'../models/auto-drrafter_erraser/SARS-CoV-2_SL56-5cext/m2seq/SARS_CoV_2-SL56_5cext_SL5only_m2seq_all_models_all_fits_FINAL_R*.out.1.pdbFINISHED_1.pdb')[0]\n",
    "pdb_out = f'SARS-CoV-2_SL56-5cext_m2seq_'\n",
    "sec_struct = 'm2seq'\n",
    "get_pdbs_multiconf(data_file,q_file,pdb_file,pdb_out,sec_struct)\n",
    "\n",
    "q_file = f'../analysis/map_to_model/auto-drrafter_erraser_SARS-CoV-2_SL56-5cext_eternafold_per_residue.csv'\n",
    "pdb_file = glob(f'../models/auto-drrafter_erraser/SARS-CoV-2_SL56-5cext/eternafold/SARS_CoV_2-SL56_5cext_SL5only_eternafold_all_models_all_fits_FINAL_R*.out.1.pdbFINISHED_1.pdb')[0]\n",
    "pdb_out = f'SARS-CoV-2_SL56-5cext_eternafold_'\n",
    "sec_struct = 'eternafold'\n",
    "get_pdbs_multiconf(data_file,q_file,pdb_file,pdb_out,sec_struct)"
   ]
  },
  {
   "cell_type": "code",
   "execution_count": 9,
   "id": "63650544-64e7-4e36-bf15-c74fbd136245",
   "metadata": {},
   "outputs": [
    {
     "name": "stdout",
     "output_type": "stream",
     "text": [
      "close all\n",
      "open SARS-CoV-2_SL56-5bext_icSHAPE_Qscore.pdb\n",
      "color byattribute bfactor #1 palette red:white:blue range 0,0.34\n",
      "view matrix camera 0.12234,-0.0011095,0.99248,550.13,0.9915,0.044647,-0.12217,135.96,-0.044175,0.999,0.0065658,182.79\n",
      "save Qscore/SARS-CoV-2_SL56-5bext_icSHAPE__Q.png transparentbackground true pixelSize 0.1\n",
      "close all\n",
      "open SARS-CoV-2_SL56-5bext_icSHAPE_convergence.pdb\n",
      "color byattribute bfactor #1 palette blue:white:red range 0,6\n",
      "view matrix camera 0.12234,-0.0011095,0.99248,550.13,0.9915,0.044647,-0.12217,135.96,-0.044175,0.999,0.0065658,182.79\n",
      "save convergence/SARS-CoV-2_SL56-5bext_icSHAPE__conv.png transparentbackground true pixelSize 0.1\n",
      "close all\n",
      "open SARS-CoV-2_SL56-5bext_m2seq_Qscore.pdb\n",
      "color byattribute bfactor #1 palette red:white:blue range 0,0.34\n",
      "view matrix camera 0.12234,-0.0011095,0.99248,550.13,0.9915,0.044647,-0.12217,135.96,-0.044175,0.999,0.0065658,182.79\n",
      "save Qscore/SARS-CoV-2_SL56-5bext_m2seq__Q.png transparentbackground true pixelSize 0.1\n",
      "close all\n",
      "open SARS-CoV-2_SL56-5bext_m2seq_convergence.pdb\n",
      "color byattribute bfactor #1 palette blue:white:red range 0,6\n",
      "view matrix camera 0.12234,-0.0011095,0.99248,550.13,0.9915,0.044647,-0.12217,135.96,-0.044175,0.999,0.0065658,182.79\n",
      "save convergence/SARS-CoV-2_SL56-5bext_m2seq__conv.png transparentbackground true pixelSize 0.1\n",
      "close all\n",
      "open SARS-CoV-2_SL56-5bext_eternafold_Qscore.pdb\n",
      "color byattribute bfactor #1 palette red:white:blue range 0,0.34\n",
      "view matrix camera 0.12234,-0.0011095,0.99248,550.13,0.9915,0.044647,-0.12217,135.96,-0.044175,0.999,0.0065658,182.79\n",
      "save Qscore/SARS-CoV-2_SL56-5bext_eternafold__Q.png transparentbackground true pixelSize 0.1\n",
      "close all\n",
      "open SARS-CoV-2_SL56-5bext_eternafold_convergence.pdb\n",
      "color byattribute bfactor #1 palette blue:white:red range 0,6\n",
      "view matrix camera 0.12234,-0.0011095,0.99248,550.13,0.9915,0.044647,-0.12217,135.96,-0.044175,0.999,0.0065658,182.79\n",
      "save convergence/SARS-CoV-2_SL56-5bext_eternafold__conv.png transparentbackground true pixelSize 0.1\n"
     ]
    }
   ],
   "source": [
    "# SARS2 SL56 5bext\n",
    "data_file = '../analysis/convergence/SARS-CoV-2_SL56-5bext_per-residue-scores.csv'\n",
    "\n",
    "q_file = f'../analysis/map_to_model/auto-drrafter_erraser_SARS-CoV-2_SL56-5bext_icSHAPE_per_residue.csv'\n",
    "pdb_file = glob(f'../models/auto-drrafter_erraser/SARS-CoV-2_SL56-5bext/icSHAPE/SARS_CoV_2-SL56_5bext_SL5only_Sun_icSHAPE_all_models_all_fits_FINAL_R*.out.1.pdbFINISHED_1.pdb')[0]\n",
    "pdb_out = f'SARS-CoV-2_SL56-5bext_icSHAPE_'\n",
    "sec_struct = 'icSHAPE'\n",
    "get_pdbs_multiconf(data_file,q_file,pdb_file,pdb_out,sec_struct)\n",
    "\n",
    "q_file = f'../analysis/map_to_model/auto-drrafter_erraser_SARS-CoV-2_SL56-5bext_m2seq_per_residue.csv'\n",
    "pdb_file = glob(f'../models/auto-drrafter_erraser/SARS-CoV-2_SL56-5bext/m2seq/SARS_CoV_2-SL56_5bext_SL5only_m2seq_all_models_all_fits_FINAL_R*.out.1.pdbFINISHED_1.pdb')[0]\n",
    "pdb_out = f'SARS-CoV-2_SL56-5bext_m2seq_'\n",
    "sec_struct = 'm2seq'\n",
    "get_pdbs_multiconf(data_file,q_file,pdb_file,pdb_out,sec_struct)\n",
    "\n",
    "q_file = f'../analysis/map_to_model/auto-drrafter_erraser_SARS-CoV-2_SL56-5bext_eternafold_per_residue.csv'\n",
    "pdb_file = glob(f'../models/auto-drrafter_erraser/SARS-CoV-2_SL56-5bext/eternafold/SARS_CoV_2-SL56_5bext_SL5only_eternafold_all_models_all_fits_FINAL_R*.out.1.pdbFINISHED_1.pdb')[0]\n",
    "pdb_out = f'SARS-CoV-2_SL56-5bext_eternafold_'\n",
    "sec_struct = 'eternafold'\n",
    "get_pdbs_multiconf(data_file,q_file,pdb_file,pdb_out,sec_struct)"
   ]
  },
  {
   "cell_type": "code",
   "execution_count": 10,
   "id": "864e4a66-1e37-4819-b1c2-312bfc4bfb6f",
   "metadata": {},
   "outputs": [
    {
     "name": "stdout",
     "output_type": "stream",
     "text": [
      "close all\n",
      "open HCoV-229E_manual_Qscore.pdb\n",
      "color byattribute bfactor #1 palette red:white:blue range 0,0.34\n",
      "view matrix camera -0.13878,-0.025873,-0.98999,-86.577,0.8019,-0.58953,-0.097008,128.36,-0.5811,-0.80734,0.10256,184.41\n",
      "save Qscore/HCoV-229E_manual__Q.png transparentbackground true pixelSize 0.1\n",
      "close all\n",
      "open HCoV-229E_manual_convergence.pdb\n",
      "color byattribute bfactor #1 palette blue:white:red range 0,6\n",
      "view matrix camera -0.13878,-0.025873,-0.98999,-86.577,0.8019,-0.58953,-0.097008,128.36,-0.5811,-0.80734,0.10256,184.41\n",
      "save convergence/HCoV-229E_manual__conv.png transparentbackground true pixelSize 0.1\n"
     ]
    }
   ],
   "source": [
    "# 229E\n",
    "data_file = '../analysis/convergence/HCoV-229E_SL5_per-residue-scores.csv'\n",
    "\n",
    "q_file = f'../analysis/map_to_model/auto-drrafter_erraser_HCoV-229E_manual_per_residue.csv'\n",
    "pdb_file = glob(f'../models/auto-drrafter_erraser/HCoV-229E/manual/HCoV_229E_manual_all_models_all_fits_FINAL_R*.out.1.pdbFINISHED_1.pdb')[0]\n",
    "pdb_out = f'HCoV-229E_manual_'\n",
    "sec_struct = 'manual node1'\n",
    "get_pdbs_multiconf(data_file,q_file,pdb_file,pdb_out,sec_struct)"
   ]
  },
  {
   "cell_type": "code",
   "execution_count": 11,
   "id": "c7b0597b-ff59-4fff-a615-bcbce6ac2a13",
   "metadata": {},
   "outputs": [
    {
     "name": "stdout",
     "output_type": "stream",
     "text": [
      "q\n"
     ]
    },
    {
     "data": {
      "text/plain": [
       "emmap\n",
       "SARS_CoV_2_SL56-7p83-flipped-cryosparc_P3_J1411_map_sharp.mrc    0.167652\n",
       "Name: mean, dtype: float64"
      ]
     },
     "metadata": {},
     "output_type": "display_data"
    },
    {
     "name": "stdout",
     "output_type": "stream",
     "text": [
      "clashscore\n"
     ]
    },
    {
     "data": {
      "text/plain": [
       "emmap\n",
       "SARS_CoV_2_SL56-7p83-flipped-cryosparc_P3_J1411_map_sharp.mrc    0.302\n",
       "Name: mean, dtype: float64"
      ]
     },
     "metadata": {},
     "output_type": "display_data"
    },
    {
     "name": "stdout",
     "output_type": "stream",
     "text": [
      "avg_suitness\n"
     ]
    },
    {
     "data": {
      "text/plain": [
       "emmap\n",
       "SARS_CoV_2_SL56-7p83-flipped-cryosparc_P3_J1411_map_sharp.mrc    0.8128\n",
       "Name: mean, dtype: float64"
      ]
     },
     "metadata": {},
     "output_type": "display_data"
    },
    {
     "name": "stdout",
     "output_type": "stream",
     "text": [
      "cc_volume\n"
     ]
    },
    {
     "data": {
      "text/plain": [
       "emmap\n",
       "SARS_CoV_2_SL56-7p83-flipped-cryosparc_P3_J1411_map_sharp.mrc    0.54375\n",
       "Name: mean, dtype: float64"
      ]
     },
     "metadata": {},
     "output_type": "display_data"
    },
    {
     "name": "stdout",
     "output_type": "stream",
     "text": [
      "cc_mask\n"
     ]
    },
    {
     "data": {
      "text/plain": [
       "emmap\n",
       "SARS_CoV_2_SL56-7p83-flipped-cryosparc_P3_J1411_map_sharp.mrc    0.54583\n",
       "Name: mean, dtype: float64"
      ]
     },
     "metadata": {},
     "output_type": "display_data"
    },
    {
     "name": "stdout",
     "output_type": "stream",
     "text": [
      "cc_peaks\n"
     ]
    },
    {
     "data": {
      "text/plain": [
       "emmap\n",
       "SARS_CoV_2_SL56-7p83-flipped-cryosparc_P3_J1411_map_sharp.mrc    0.52471\n",
       "Name: mean, dtype: float64"
      ]
     },
     "metadata": {},
     "output_type": "display_data"
    },
    {
     "name": "stdout",
     "output_type": "stream",
     "text": [
      "tempy_mi\n"
     ]
    },
    {
     "data": {
      "text/plain": [
       "emmap\n",
       "SARS_CoV_2_SL56-7p83-flipped-cryosparc_P3_J1411_map_sharp.mrc    0.015287\n",
       "Name: mean, dtype: float64"
      ]
     },
     "metadata": {},
     "output_type": "display_data"
    },
    {
     "name": "stdout",
     "output_type": "stream",
     "text": [
      "tempy_smoc\n"
     ]
    },
    {
     "data": {
      "text/plain": [
       "emmap\n",
       "SARS_CoV_2_SL56-7p83-flipped-cryosparc_P3_J1411_map_sharp.mrc    0.912239\n",
       "Name: mean, dtype: float64"
      ]
     },
     "metadata": {},
     "output_type": "display_data"
    }
   ],
   "source": [
    "# get summary statistics\n",
    "scores = pd.read_csv('../analysis/map_to_model/auto-drrafter_erraser_SARS-CoV-2_SL56_m2seq_scores.csv')\n",
    "for sc in ['q','clashscore',  'avg_suitness', # 'bond_outlier', 'angle_outlier', 'pucker_outlier', 'suite_outlier', 'tempy_ccc',\n",
    "       'cc_volume', 'cc_mask', 'cc_peaks', 'tempy_mi', 'tempy_smoc']:\n",
    "    print(sc)\n",
    "    display(scores.groupby('emmap')[sc].describe()['mean'])"
   ]
  },
  {
   "cell_type": "code",
   "execution_count": 12,
   "id": "6fedde25-868c-4bba-9b00-f22a6e864802",
   "metadata": {},
   "outputs": [
    {
     "data": {
      "text/plain": [
       "0.4136813635721343"
      ]
     },
     "execution_count": 12,
     "metadata": {},
     "output_type": "execute_result"
    }
   ],
   "source": [
    "# get mean Q-score of junction residues\n",
    "xx = pd.read_csv('../analysis/map_to_model/auto-drrafter_erraser_SARS-CoV-2_m2seq_librarySHAPE_eternafold_per_residue.csv')\n",
    "xx.groupby('per_residue_cc_residue').q_per_residue.mean()[[182,183,262,263,227,228,252,253]].mean()"
   ]
  },
  {
   "cell_type": "code",
   "execution_count": null,
   "id": "1f5c8126-e352-41f7-8b61-306dad36aec5",
   "metadata": {},
   "outputs": [],
   "source": []
  }
 ],
 "metadata": {
  "kernelspec": {
   "display_name": "Python 3",
   "language": "python",
   "name": "python3"
  },
  "language_info": {
   "codemirror_mode": {
    "name": "ipython",
    "version": 3
   },
   "file_extension": ".py",
   "mimetype": "text/x-python",
   "name": "python",
   "nbconvert_exporter": "python",
   "pygments_lexer": "ipython3",
   "version": "3.8.16"
  }
 },
 "nbformat": 4,
 "nbformat_minor": 5
}
